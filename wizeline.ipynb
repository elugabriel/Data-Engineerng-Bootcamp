{
  "nbformat": 4,
  "nbformat_minor": 0,
  "metadata": {
    "colab": {
      "provenance": []
    },
    "kernelspec": {
      "name": "python3",
      "display_name": "Python 3"
    },
    "language_info": {
      "name": "python"
    }
  },
  "cells": [
    {
      "cell_type": "code",
      "source": [
        "import os\n",
        "import pandas as pd\n",
        "import zipfile\n",
        "import sqlite3"
      ],
      "metadata": {
        "id": "YzAQQQmLTOqf"
      },
      "execution_count": null,
      "outputs": []
    },
    {
      "cell_type": "code",
      "source": [
        "# Define the path to the zip file and the extraction directory\n",
        "zip_file_path = \"/content/tennis_atp-master.zip\"\n",
        "extraction_dir = \"/content/tennis_atp-master\""
      ],
      "metadata": {
        "id": "CcpkJeBhCoKL"
      },
      "execution_count": null,
      "outputs": []
    },
    {
      "cell_type": "code",
      "source": [
        "# Unzipping the file\n",
        "with zipfile.ZipFile(zip_file_path, \"r\") as zip_ref:\n",
        "    zip_ref.extractall(extraction_dir)\n"
      ],
      "metadata": {
        "id": "sDZZKO3hC_kT"
      },
      "execution_count": null,
      "outputs": []
    },
    {
      "cell_type": "code",
      "source": [
        "# Change to the extracted directory\n",
        "os.chdir(extraction_dir)\n"
      ],
      "metadata": {
        "id": "3XwXxYP-UBbR"
      },
      "execution_count": null,
      "outputs": []
    },
    {
      "cell_type": "code",
      "source": [
        "# Define a function to filter files based on a pattern\n",
        "def get_files_list(files, pattern):\n",
        "    return [file for file in files if file.startswith(pattern)]\n"
      ],
      "metadata": {
        "id": "xzWTQftlU-if"
      },
      "execution_count": null,
      "outputs": []
    },
    {
      "cell_type": "code",
      "source": [
        "# Get the list of files to process\n",
        "files_to_process = os.listdir('.')\n",
        "files_known = get_files_list(files_to_process, 'atp_matches_')"
      ],
      "metadata": {
        "id": "E502xNh1UDgv"
      },
      "execution_count": null,
      "outputs": []
    },
    {
      "cell_type": "code",
      "source": [
        "atp_matches = []\n",
        "\n",
        "# Process each file\n",
        "for file in files_known:\n",
        "    with open(file, 'r') as atp_file:\n",
        "        csv_reader = csv.reader(atp_file)\n",
        "        atp_matches.extend(list(csv_reader))"
      ],
      "metadata": {
        "id": "EQFH9wkqVG6o"
      },
      "execution_count": null,
      "outputs": []
    },
    {
      "cell_type": "code",
      "source": [
        "# Create a DataFrame from the extracted data\n",
        "df = pd.DataFrame(atp_matches, columns=['tourney_id', 'tourney_name', 'surface', 'draw_size',\n",
        "                                        'tourney_level', 'tourney_date', 'match_num', 'filename', 'time_stamp'])\n"
      ],
      "metadata": {
        "id": "c3qjz1bLVJvY"
      },
      "execution_count": null,
      "outputs": []
    },
    {
      "cell_type": "code",
      "source": [
        "# Define the path to the new CSV file\n",
        "output_csv_path = 'all_matches.csv'"
      ],
      "metadata": {
        "id": "kIfv5QEbUR0_"
      },
      "execution_count": null,
      "outputs": []
    },
    {
      "cell_type": "code",
      "source": [
        "# Save the DataFrame to a new CSV file\n",
        "df.to_csv(output_csv_path, index=False)"
      ],
      "metadata": {
        "id": "IAUin4c1V5Of"
      },
      "execution_count": null,
      "outputs": []
    },
    {
      "cell_type": "code",
      "source": [
        "# Define the path to the CSV file\n",
        "csv_file_path = \"all_matches.csv\"\n",
        "\n",
        "# Read the CSV file into a DataFrame\n",
        "df = pd.read_csv(csv_file_path)\n",
        "\n",
        "# Display the contents of the DataFrame\n",
        "print(df)"
      ],
      "metadata": {
        "colab": {
          "base_uri": "https://localhost:8080/"
        },
        "id": "dJ_pxBjeVoGH",
        "outputId": "36b06a21-ec45-4bd0-dd1a-b894b21723e2"
      },
      "execution_count": null,
      "outputs": [
        {
          "output_type": "stream",
          "name": "stdout",
          "text": [
            "Empty DataFrame\n",
            "Columns: [tourney_id, tourney_name, surface, draw_size, tourney_level, tourney_date, match_num, filename, time_stamp]\n",
            "Index: []\n"
          ]
        }
      ]
    },
    {
      "cell_type": "code",
      "source": [
        "# Define the path to the SQLite database\n",
        "db_path = '/home/user/tennis_atp.db'\n",
        "\n"
      ],
      "metadata": {
        "id": "EHI700yhV5LW"
      },
      "execution_count": null,
      "outputs": []
    },
    {
      "cell_type": "code",
      "source": [
        "# Create a connection to the database\n",
        "conn = sqlite3.connect(\"/content/tennis_atp.db\")\n",
        "cur = conn.cursor()\n"
      ],
      "metadata": {
        "id": "9BRGQr2JV5Im"
      },
      "execution_count": null,
      "outputs": []
    },
    {
      "cell_type": "code",
      "source": [
        "# Define the SQLite table creation query\n",
        "create_table_query = \"\"\"\n",
        "CREATE TABLE IF NOT EXISTS atp_matches (\n",
        "    tourney_id TEXT,\n",
        "    tourney_name TEXT,\n",
        "    surface TEXT,\n",
        "    draw_size INTEGER,\n",
        "    tourney_level TEXT,\n",
        "    tourney_date INTEGER,\n",
        "    match_num INTEGER,\n",
        "    filename TEXT,\n",
        "    time_stamp TEXT\n",
        ")\n",
        "\"\"\"\n",
        "\n",
        "# Create the table\n",
        "cur.execute(create_table_query)\n",
        "conn.commit()\n",
        "\n",
        "# Close the database connection\n",
        "#conn.close()"
      ],
      "metadata": {
        "id": "iaW2ijiDV5F2"
      },
      "execution_count": null,
      "outputs": []
    },
    {
      "cell_type": "code",
      "source": [
        "# Execute a SELECT query to fetch all rows from the table\n",
        "cur.execute(\"SELECT * FROM atp_matches\")\n",
        "\n",
        "# Fetch all the rows\n",
        "rows = cur.fetchall()\n",
        "\n",
        "# Print the fetched rows\n",
        "for row in rows:\n",
        "    print(row)\n"
      ],
      "metadata": {
        "id": "fyvtvxgzV5DA"
      },
      "execution_count": null,
      "outputs": []
    },
    {
      "cell_type": "code",
      "source": [],
      "metadata": {
        "id": "uNMgicuwV5AH"
      },
      "execution_count": null,
      "outputs": []
    },
    {
      "cell_type": "code",
      "source": [],
      "metadata": {
        "id": "uh2HTKADRo06"
      },
      "execution_count": null,
      "outputs": []
    }
  ]
}